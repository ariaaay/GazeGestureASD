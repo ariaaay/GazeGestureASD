{
 "cells": [
  {
   "cell_type": "code",
   "execution_count": 4,
   "metadata": {},
   "outputs": [],
   "source": [
    "import numpy as np"
   ]
  },
  {
   "cell_type": "code",
   "execution_count": 6,
   "metadata": {},
   "outputs": [],
   "source": [
    "\n",
    "results = np.load(\"output/gaze_accs.npy\", allow_pickle=True)\n"
   ]
  },
  {
   "cell_type": "code",
   "execution_count": 13,
   "metadata": {},
   "outputs": [
    {
     "name": "stdout",
     "output_type": "stream",
     "text": [
      "0.6521739130434783\n",
      "0.8\n",
      "0.6333333333333333\n",
      "0.7627118644067796\n",
      "0.5566037735849056\n",
      "0.75\n",
      "0.5365853658536586\n",
      "0.6578947368421053\n"
     ]
    }
   ],
   "source": [
    "print(\"Accuracy\")\n",
    "for r in results:\n",
    "    print(r[1])\n",
    "# print(np.mean(r[1]))"
   ]
  },
  {
   "cell_type": "code",
   "execution_count": 10,
   "metadata": {},
   "outputs": [
    {
     "name": "stdout",
     "output_type": "stream",
     "text": [
      "0.8181818181818182\n",
      "1.0\n",
      "0.6190476190476191\n",
      "0.8148148148148148\n",
      "0.7058823529411765\n",
      "0.868421052631579\n",
      "0.7391304347826086\n",
      "0.9523809523809523\n"
     ]
    }
   ],
   "source": [
    "print(\"specificity\")\n",
    "for r in results:\n",
    "    print(r[2])"
   ]
  },
  {
   "cell_type": "code",
   "execution_count": 11,
   "metadata": {},
   "outputs": [
    {
     "name": "stdout",
     "output_type": "stream",
     "text": [
      "0.5\n",
      "0.6153846153846154\n",
      "0.6410256410256411\n",
      "0.71875\n",
      "0.4861111111111111\n",
      "0.42857142857142855\n",
      "0.4576271186440678\n",
      "0.29411764705882354\n"
     ]
    }
   ],
   "source": [
    "print(\"sensitivity\")\n",
    "for r in results:\n",
    "    print(r[3])"
   ]
  },
  {
   "cell_type": "code",
   "execution_count": null,
   "metadata": {},
   "outputs": [],
   "source": []
  }
 ],
 "metadata": {
  "kernelspec": {
   "display_name": "Python 3 (ipykernel)",
   "language": "python",
   "name": "python3"
  }
 },
 "nbformat": 4,
 "nbformat_minor": 2
}
